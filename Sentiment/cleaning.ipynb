{
  "cells": [
    {
      "cell_type": "code",
      "execution_count": 1,
      "metadata": {
        "id": "GJC9HWcTVjmZ"
      },
      "outputs": [],
      "source": [
        "import pandas as pd\n",
        "import re\n",
        "import numpy as np"
      ]
    },
    {
      "cell_type": "code",
      "execution_count": 2,
      "metadata": {
        "colab": {
          "base_uri": "https://localhost:8080/",
          "height": 499
        },
        "id": "QNBFT_NqVjma",
        "outputId": "c470319e-c85f-461d-b338-4275d1e3cdc5"
      },
      "outputs": [
        {
          "data": {
            "text/html": [
              "<div>\n",
              "<style scoped>\n",
              "    .dataframe tbody tr th:only-of-type {\n",
              "        vertical-align: middle;\n",
              "    }\n",
              "\n",
              "    .dataframe tbody tr th {\n",
              "        vertical-align: top;\n",
              "    }\n",
              "\n",
              "    .dataframe thead th {\n",
              "        text-align: right;\n",
              "    }\n",
              "</style>\n",
              "<table border=\"1\" class=\"dataframe\">\n",
              "  <thead>\n",
              "    <tr style=\"text-align: right;\">\n",
              "      <th></th>\n",
              "      <th>Primary__Hotel Name</th>\n",
              "      <th>Primary__Google Travel</th>\n",
              "      <th>Primary__Total Reviews</th>\n",
              "      <th>Primary__Rating</th>\n",
              "      <th>Primary__Hotel Address</th>\n",
              "      <th>Primary__Contact Number</th>\n",
              "      <th>Primary__Official Website Link</th>\n",
              "      <th>Primary__Date</th>\n",
              "      <th>Primary__Check In Time</th>\n",
              "      <th>Primary__Check Out Time</th>\n",
              "      <th>...</th>\n",
              "      <th>Rates__Price</th>\n",
              "      <th>Reviews__name</th>\n",
              "      <th>Reviews__review</th>\n",
              "      <th>Reviews__service rate__Rooms</th>\n",
              "      <th>Reviews__service rate__Service</th>\n",
              "      <th>Reviews__service rate__Location</th>\n",
              "      <th>Tripadvisor Ratings__Location</th>\n",
              "      <th>Tripadvisor Ratings__Cleanliness</th>\n",
              "      <th>Tripadvisor Ratings__Service</th>\n",
              "      <th>Tripadvisor Ratings__Value</th>\n",
              "    </tr>\n",
              "  </thead>\n",
              "  <tbody>\n",
              "    <tr>\n",
              "      <th>0</th>\n",
              "      <td>Comfort Suites Johnson Creek Conference Center</td>\n",
              "      <td>₹7,172</td>\n",
              "      <td>840 reviews</td>\n",
              "      <td>4.1</td>\n",
              "      <td>725 Paradise Ln, Johnson Creek, WI 53038, Unit...</td>\n",
              "      <td>+1 920-699-2800</td>\n",
              "      <td>https://www.choicehotels.com/wisconsin/johnson...</td>\n",
              "      <td>Aug 29 - 30</td>\n",
              "      <td>3:00 PM</td>\n",
              "      <td>11:00 AM</td>\n",
              "      <td>...</td>\n",
              "      <td>₹6,804</td>\n",
              "      <td>Alissa Cotter</td>\n",
              "      <td>We stayed at this hotel last weekend for a sof...</td>\n",
              "      <td>4.0</td>\n",
              "      <td>1.0</td>\n",
              "      <td>4.0</td>\n",
              "      <td>3.6</td>\n",
              "      <td>4.0</td>\n",
              "      <td>3.9</td>\n",
              "      <td>3.7</td>\n",
              "    </tr>\n",
              "    <tr>\n",
              "      <th>1</th>\n",
              "      <td>NaN</td>\n",
              "      <td>NaN</td>\n",
              "      <td>NaN</td>\n",
              "      <td>NaN</td>\n",
              "      <td>NaN</td>\n",
              "      <td>NaN</td>\n",
              "      <td>NaN</td>\n",
              "      <td>NaN</td>\n",
              "      <td>NaN</td>\n",
              "      <td>NaN</td>\n",
              "      <td>...</td>\n",
              "      <td>₹6,381</td>\n",
              "      <td>Nicholas P</td>\n",
              "      <td>Run away! The management at this place has abs...</td>\n",
              "      <td>4.0</td>\n",
              "      <td>1.0</td>\n",
              "      <td>2.0</td>\n",
              "      <td>NaN</td>\n",
              "      <td>NaN</td>\n",
              "      <td>NaN</td>\n",
              "      <td>NaN</td>\n",
              "    </tr>\n",
              "    <tr>\n",
              "      <th>2</th>\n",
              "      <td>NaN</td>\n",
              "      <td>NaN</td>\n",
              "      <td>NaN</td>\n",
              "      <td>NaN</td>\n",
              "      <td>NaN</td>\n",
              "      <td>NaN</td>\n",
              "      <td>NaN</td>\n",
              "      <td>NaN</td>\n",
              "      <td>NaN</td>\n",
              "      <td>NaN</td>\n",
              "      <td>...</td>\n",
              "      <td>₹6,381</td>\n",
              "      <td>Lacey Mattsen</td>\n",
              "      <td>Mediocre at best. And this below isn't even th...</td>\n",
              "      <td>2.0</td>\n",
              "      <td>1.0</td>\n",
              "      <td>3.0</td>\n",
              "      <td>NaN</td>\n",
              "      <td>NaN</td>\n",
              "      <td>NaN</td>\n",
              "      <td>NaN</td>\n",
              "    </tr>\n",
              "    <tr>\n",
              "      <th>3</th>\n",
              "      <td>NaN</td>\n",
              "      <td>NaN</td>\n",
              "      <td>NaN</td>\n",
              "      <td>NaN</td>\n",
              "      <td>NaN</td>\n",
              "      <td>NaN</td>\n",
              "      <td>NaN</td>\n",
              "      <td>NaN</td>\n",
              "      <td>NaN</td>\n",
              "      <td>NaN</td>\n",
              "      <td>...</td>\n",
              "      <td>₹6,381</td>\n",
              "      <td>Nicholas Parker</td>\n",
              "      <td>Run away! The management at this place has abs...</td>\n",
              "      <td>1.0</td>\n",
              "      <td>1.0</td>\n",
              "      <td>1.0</td>\n",
              "      <td>NaN</td>\n",
              "      <td>NaN</td>\n",
              "      <td>NaN</td>\n",
              "      <td>NaN</td>\n",
              "    </tr>\n",
              "    <tr>\n",
              "      <th>4</th>\n",
              "      <td>NaN</td>\n",
              "      <td>NaN</td>\n",
              "      <td>NaN</td>\n",
              "      <td>NaN</td>\n",
              "      <td>NaN</td>\n",
              "      <td>NaN</td>\n",
              "      <td>NaN</td>\n",
              "      <td>NaN</td>\n",
              "      <td>NaN</td>\n",
              "      <td>NaN</td>\n",
              "      <td>...</td>\n",
              "      <td>₹6,381</td>\n",
              "      <td>Shelby Bowles</td>\n",
              "      <td>Was told they had a pool &amp; hot tub. Get there ...</td>\n",
              "      <td>2.0</td>\n",
              "      <td>1.0</td>\n",
              "      <td>3.0</td>\n",
              "      <td>NaN</td>\n",
              "      <td>NaN</td>\n",
              "      <td>NaN</td>\n",
              "      <td>NaN</td>\n",
              "    </tr>\n",
              "  </tbody>\n",
              "</table>\n",
              "<p>5 rows × 21 columns</p>\n",
              "</div>"
            ],
            "text/plain": [
              "                              Primary__Hotel Name Primary__Google Travel  \\\n",
              "0  Comfort Suites Johnson Creek Conference Center                 ₹7,172   \n",
              "1                                             NaN                    NaN   \n",
              "2                                             NaN                    NaN   \n",
              "3                                             NaN                    NaN   \n",
              "4                                             NaN                    NaN   \n",
              "\n",
              "  Primary__Total Reviews  Primary__Rating  \\\n",
              "0            840 reviews              4.1   \n",
              "1                    NaN              NaN   \n",
              "2                    NaN              NaN   \n",
              "3                    NaN              NaN   \n",
              "4                    NaN              NaN   \n",
              "\n",
              "                              Primary__Hotel Address Primary__Contact Number  \\\n",
              "0  725 Paradise Ln, Johnson Creek, WI 53038, Unit...         +1 920-699-2800   \n",
              "1                                                NaN                     NaN   \n",
              "2                                                NaN                     NaN   \n",
              "3                                                NaN                     NaN   \n",
              "4                                                NaN                     NaN   \n",
              "\n",
              "                      Primary__Official Website Link Primary__Date  \\\n",
              "0  https://www.choicehotels.com/wisconsin/johnson...   Aug 29 - 30   \n",
              "1                                                NaN           NaN   \n",
              "2                                                NaN           NaN   \n",
              "3                                                NaN           NaN   \n",
              "4                                                NaN           NaN   \n",
              "\n",
              "  Primary__Check In Time Primary__Check Out Time  ... Rates__Price  \\\n",
              "0                3:00 PM                11:00 AM  ...       ₹6,804   \n",
              "1                    NaN                     NaN  ...       ₹6,381   \n",
              "2                    NaN                     NaN  ...       ₹6,381   \n",
              "3                    NaN                     NaN  ...       ₹6,381   \n",
              "4                    NaN                     NaN  ...       ₹6,381   \n",
              "\n",
              "     Reviews__name                                    Reviews__review  \\\n",
              "0    Alissa Cotter  We stayed at this hotel last weekend for a sof...   \n",
              "1       Nicholas P  Run away! The management at this place has abs...   \n",
              "2    Lacey Mattsen  Mediocre at best. And this below isn't even th...   \n",
              "3  Nicholas Parker  Run away! The management at this place has abs...   \n",
              "4    Shelby Bowles  Was told they had a pool & hot tub. Get there ...   \n",
              "\n",
              "  Reviews__service rate__Rooms  Reviews__service rate__Service  \\\n",
              "0                          4.0                             1.0   \n",
              "1                          4.0                             1.0   \n",
              "2                          2.0                             1.0   \n",
              "3                          1.0                             1.0   \n",
              "4                          2.0                             1.0   \n",
              "\n",
              "   Reviews__service rate__Location  Tripadvisor Ratings__Location  \\\n",
              "0                              4.0                            3.6   \n",
              "1                              2.0                            NaN   \n",
              "2                              3.0                            NaN   \n",
              "3                              1.0                            NaN   \n",
              "4                              3.0                            NaN   \n",
              "\n",
              "   Tripadvisor Ratings__Cleanliness  Tripadvisor Ratings__Service  \\\n",
              "0                               4.0                           3.9   \n",
              "1                               NaN                           NaN   \n",
              "2                               NaN                           NaN   \n",
              "3                               NaN                           NaN   \n",
              "4                               NaN                           NaN   \n",
              "\n",
              "   Tripadvisor Ratings__Value  \n",
              "0                         3.7  \n",
              "1                         NaN  \n",
              "2                         NaN  \n",
              "3                         NaN  \n",
              "4                         NaN  \n",
              "\n",
              "[5 rows x 21 columns]"
            ]
          },
          "execution_count": 2,
          "metadata": {},
          "output_type": "execute_result"
        }
      ],
      "source": [
        "df=pd.read_csv('Google Business Data with all reviews.csv')\n",
        "df.head()"
      ]
    },
    {
      "cell_type": "code",
      "execution_count": 4,
      "metadata": {
        "id": "P2xqGv4BVjmb"
      },
      "outputs": [],
      "source": [
        "df = df[['Reviews__name', 'Reviews__review']]"
      ]
    },
    {
      "cell_type": "code",
      "execution_count": 5,
      "metadata": {
        "id": "Vl4W2YYcVjmb"
      },
      "outputs": [],
      "source": [
        "df = df.rename(columns={'Reviews__name': 'name', 'Reviews__review': 'review'})\n",
        "\n",
        "# Drop rows with missing values in the retained columns\n",
        "df = df.dropna(subset=['name', 'review'])"
      ]
    },
    {
      "cell_type": "code",
      "execution_count": 7,
      "metadata": {
        "colab": {
          "base_uri": "https://localhost:8080/",
          "height": 206
        },
        "id": "U479tAZHVjmc",
        "outputId": "6d2a639f-9919-438b-f921-875cc79c2c45"
      },
      "outputs": [
        {
          "data": {
            "text/html": [
              "<div>\n",
              "<style scoped>\n",
              "    .dataframe tbody tr th:only-of-type {\n",
              "        vertical-align: middle;\n",
              "    }\n",
              "\n",
              "    .dataframe tbody tr th {\n",
              "        vertical-align: top;\n",
              "    }\n",
              "\n",
              "    .dataframe thead th {\n",
              "        text-align: right;\n",
              "    }\n",
              "</style>\n",
              "<table border=\"1\" class=\"dataframe\">\n",
              "  <thead>\n",
              "    <tr style=\"text-align: right;\">\n",
              "      <th></th>\n",
              "      <th>name</th>\n",
              "      <th>review</th>\n",
              "    </tr>\n",
              "  </thead>\n",
              "  <tbody>\n",
              "    <tr>\n",
              "      <th>0</th>\n",
              "      <td>Alissa Cotter</td>\n",
              "      <td>We stayed at this hotel last weekend for a sof...</td>\n",
              "    </tr>\n",
              "    <tr>\n",
              "      <th>1</th>\n",
              "      <td>Nicholas P</td>\n",
              "      <td>Run away! The management at this place has abs...</td>\n",
              "    </tr>\n",
              "    <tr>\n",
              "      <th>2</th>\n",
              "      <td>Lacey Mattsen</td>\n",
              "      <td>Mediocre at best. And this below isn't even th...</td>\n",
              "    </tr>\n",
              "    <tr>\n",
              "      <th>3</th>\n",
              "      <td>Nicholas Parker</td>\n",
              "      <td>Run away! The management at this place has abs...</td>\n",
              "    </tr>\n",
              "    <tr>\n",
              "      <th>4</th>\n",
              "      <td>Shelby Bowles</td>\n",
              "      <td>Was told they had a pool &amp; hot tub. Get there ...</td>\n",
              "    </tr>\n",
              "  </tbody>\n",
              "</table>\n",
              "</div>"
            ],
            "text/plain": [
              "              name                                             review\n",
              "0    Alissa Cotter  We stayed at this hotel last weekend for a sof...\n",
              "1       Nicholas P  Run away! The management at this place has abs...\n",
              "2    Lacey Mattsen  Mediocre at best. And this below isn't even th...\n",
              "3  Nicholas Parker  Run away! The management at this place has abs...\n",
              "4    Shelby Bowles  Was told they had a pool & hot tub. Get there ..."
            ]
          },
          "execution_count": 7,
          "metadata": {},
          "output_type": "execute_result"
        }
      ],
      "source": [
        "df.head()"
      ]
    },
    {
      "cell_type": "code",
      "execution_count": 8,
      "metadata": {
        "colab": {
          "base_uri": "https://localhost:8080/"
        },
        "id": "DkZzbjzqVjmc",
        "outputId": "85f31196-1873-4792-83a4-6e182ca577f4"
      },
      "outputs": [
        {
          "data": {
            "text/plain": [
              "(2268, 2)"
            ]
          },
          "execution_count": 8,
          "metadata": {},
          "output_type": "execute_result"
        }
      ],
      "source": [
        "df=df.dropna()\n",
        "df.shape\n"
      ]
    },
    {
      "cell_type": "code",
      "execution_count": 9,
      "metadata": {
        "colab": {
          "base_uri": "https://localhost:8080/",
          "height": 147
        },
        "id": "U1tCp5nyVjmc",
        "outputId": "333fb336-c7e1-45af-ce5c-50e07be37e7a"
      },
      "outputs": [
        {
          "data": {
            "text/plain": [
              "name      0\n",
              "review    0\n",
              "dtype: int64"
            ]
          },
          "execution_count": 9,
          "metadata": {},
          "output_type": "execute_result"
        }
      ],
      "source": [
        "df.isnull().sum()"
      ]
    },
    {
      "cell_type": "code",
      "execution_count": 10,
      "metadata": {
        "colab": {
          "base_uri": "https://localhost:8080/",
          "height": 206
        },
        "id": "hLyg2enjVjmd",
        "outputId": "cfe40e74-d3ff-45a2-96b1-e168f7b6711c"
      },
      "outputs": [
        {
          "data": {
            "text/html": [
              "<div>\n",
              "<style scoped>\n",
              "    .dataframe tbody tr th:only-of-type {\n",
              "        vertical-align: middle;\n",
              "    }\n",
              "\n",
              "    .dataframe tbody tr th {\n",
              "        vertical-align: top;\n",
              "    }\n",
              "\n",
              "    .dataframe thead th {\n",
              "        text-align: right;\n",
              "    }\n",
              "</style>\n",
              "<table border=\"1\" class=\"dataframe\">\n",
              "  <thead>\n",
              "    <tr style=\"text-align: right;\">\n",
              "      <th></th>\n",
              "      <th>name</th>\n",
              "      <th>review</th>\n",
              "    </tr>\n",
              "  </thead>\n",
              "  <tbody>\n",
              "    <tr>\n",
              "      <th>2264</th>\n",
              "      <td>Ernesto Jimenez</td>\n",
              "      <td>(Translated by Google) T because it has a hydr...</td>\n",
              "    </tr>\n",
              "    <tr>\n",
              "      <th>2274</th>\n",
              "      <td>Juan “Acmet666” Akym</td>\n",
              "      <td>(Translated by Google) Excellent(Original)Exel...</td>\n",
              "    </tr>\n",
              "    <tr>\n",
              "      <th>2276</th>\n",
              "      <td>李洪勇</td>\n",
              "      <td>(Translated by Google) good environment(Origin...</td>\n",
              "    </tr>\n",
              "    <tr>\n",
              "      <th>2277</th>\n",
              "      <td>Gustavo Luna</td>\n",
              "      <td>Kk</td>\n",
              "    </tr>\n",
              "    <tr>\n",
              "      <th>2282</th>\n",
              "      <td>Anonymous</td>\n",
              "      <td>💜💜💜💜💜💜💜💜💜💜💜💜💜💜💜💜💜💜💜💜💜💜💜💜💜💜💜💜💜💜💜💜💜💜💜💜💜💜💜💜💜💜💜💜💜💜...</td>\n",
              "    </tr>\n",
              "  </tbody>\n",
              "</table>\n",
              "</div>"
            ],
            "text/plain": [
              "                      name                                             review\n",
              "2264       Ernesto Jimenez  (Translated by Google) T because it has a hydr...\n",
              "2274  Juan “Acmet666” Akym  (Translated by Google) Excellent(Original)Exel...\n",
              "2276                   李洪勇  (Translated by Google) good environment(Origin...\n",
              "2277          Gustavo Luna                                                 Kk\n",
              "2282             Anonymous  💜💜💜💜💜💜💜💜💜💜💜💜💜💜💜💜💜💜💜💜💜💜💜💜💜💜💜💜💜💜💜💜💜💜💜💜💜💜💜💜💜💜💜💜💜💜..."
            ]
          },
          "execution_count": 10,
          "metadata": {},
          "output_type": "execute_result"
        }
      ],
      "source": [
        "df.tail()"
      ]
    },
    {
      "cell_type": "code",
      "execution_count": 11,
      "metadata": {
        "id": "bcSYwoRvVjmd"
      },
      "outputs": [],
      "source": [
        "def preprocess_text(text):\n",
        "    # Remove punctuation and numbers\n",
        "    text = re.sub(r'[^\\w\\s]', '', text)\n",
        "    text = re.sub(r'\\d+', '', text)\n",
        "    # Convert to lowercase\n",
        "    text = text.lower()\n",
        "    # Remove repetitive words\n",
        "    text = text.strip()\n",
        "    return text\n",
        "\n",
        "# Apply enhanced preprocessing to the 'review' column\n"
      ]
    },
    {
      "cell_type": "code",
      "execution_count": 12,
      "metadata": {
        "id": "RLF0UHUtVjmd"
      },
      "outputs": [],
      "source": [
        "df['review']= df['review'].apply(preprocess_text)"
      ]
    },
    {
      "cell_type": "code",
      "execution_count": 13,
      "metadata": {
        "colab": {
          "base_uri": "https://localhost:8080/",
          "height": 206
        },
        "id": "tQneDSIGVjmd",
        "outputId": "8f7c383a-32f9-4e2d-e1a6-a70ee1eacea9"
      },
      "outputs": [
        {
          "data": {
            "text/html": [
              "<div>\n",
              "<style scoped>\n",
              "    .dataframe tbody tr th:only-of-type {\n",
              "        vertical-align: middle;\n",
              "    }\n",
              "\n",
              "    .dataframe tbody tr th {\n",
              "        vertical-align: top;\n",
              "    }\n",
              "\n",
              "    .dataframe thead th {\n",
              "        text-align: right;\n",
              "    }\n",
              "</style>\n",
              "<table border=\"1\" class=\"dataframe\">\n",
              "  <thead>\n",
              "    <tr style=\"text-align: right;\">\n",
              "      <th></th>\n",
              "      <th>name</th>\n",
              "      <th>review</th>\n",
              "    </tr>\n",
              "  </thead>\n",
              "  <tbody>\n",
              "    <tr>\n",
              "      <th>2264</th>\n",
              "      <td>Ernesto Jimenez</td>\n",
              "      <td>translated by google t because it has a hydro ...</td>\n",
              "    </tr>\n",
              "    <tr>\n",
              "      <th>2274</th>\n",
              "      <td>Juan “Acmet666” Akym</td>\n",
              "      <td>translated by google excellentoriginalexelente</td>\n",
              "    </tr>\n",
              "    <tr>\n",
              "      <th>2276</th>\n",
              "      <td>李洪勇</td>\n",
              "      <td>translated by google good environmentoriginal环境很好</td>\n",
              "    </tr>\n",
              "    <tr>\n",
              "      <th>2277</th>\n",
              "      <td>Gustavo Luna</td>\n",
              "      <td>kk</td>\n",
              "    </tr>\n",
              "    <tr>\n",
              "      <th>2282</th>\n",
              "      <td>Anonymous</td>\n",
              "      <td></td>\n",
              "    </tr>\n",
              "  </tbody>\n",
              "</table>\n",
              "</div>"
            ],
            "text/plain": [
              "                      name                                             review\n",
              "2264       Ernesto Jimenez  translated by google t because it has a hydro ...\n",
              "2274  Juan “Acmet666” Akym     translated by google excellentoriginalexelente\n",
              "2276                   李洪勇  translated by google good environmentoriginal环境很好\n",
              "2277          Gustavo Luna                                                 kk\n",
              "2282             Anonymous                                                   "
            ]
          },
          "execution_count": 13,
          "metadata": {},
          "output_type": "execute_result"
        }
      ],
      "source": [
        "df.tail()"
      ]
    },
    {
      "cell_type": "code",
      "execution_count": 14,
      "metadata": {
        "colab": {
          "base_uri": "https://localhost:8080/",
          "height": 147
        },
        "id": "UldSel0jVjmd",
        "outputId": "11ff5e56-c36c-46a7-c3a2-92ebeed8f8f9"
      },
      "outputs": [
        {
          "data": {
            "text/plain": [
              "name      0\n",
              "review    0\n",
              "dtype: int64"
            ]
          },
          "execution_count": 14,
          "metadata": {},
          "output_type": "execute_result"
        }
      ],
      "source": [
        "df.isnull().sum()"
      ]
    },
    {
      "cell_type": "code",
      "execution_count": 15,
      "metadata": {
        "colab": {
          "base_uri": "https://localhost:8080/",
          "height": 147
        },
        "id": "_FLO_cRCVjmd",
        "outputId": "c6c9dbd8-4235-4538-c90b-2cb1c2f8f477"
      },
      "outputs": [
        {
          "data": {
            "text/plain": [
              "name      0\n",
              "review    1\n",
              "dtype: int64"
            ]
          },
          "execution_count": 15,
          "metadata": {},
          "output_type": "execute_result"
        }
      ],
      "source": [
        "df = df.replace('', np.nan)\n",
        "df.isnull().sum()"
      ]
    },
    {
      "cell_type": "code",
      "execution_count": 16,
      "metadata": {
        "colab": {
          "base_uri": "https://localhost:8080/",
          "height": 147
        },
        "id": "0jC59zzSVjmd",
        "outputId": "c4f6749d-035f-4d1a-aa81-45ea22250c5c"
      },
      "outputs": [
        {
          "data": {
            "text/plain": [
              "name      0\n",
              "review    0\n",
              "dtype: int64"
            ]
          },
          "execution_count": 16,
          "metadata": {},
          "output_type": "execute_result"
        }
      ],
      "source": [
        "df=df.dropna()\n",
        "df.isnull().sum()"
      ]
    },
    {
      "cell_type": "code",
      "execution_count": 17,
      "metadata": {
        "colab": {
          "base_uri": "https://localhost:8080/"
        },
        "id": "RNJ37nzzVjmd",
        "outputId": "c5833cbb-f01e-46dd-f35b-76b4ab8716c5"
      },
      "outputs": [
        {
          "data": {
            "text/plain": [
              "(2267, 2)"
            ]
          },
          "execution_count": 17,
          "metadata": {},
          "output_type": "execute_result"
        }
      ],
      "source": [
        "df.shape"
      ]
    },
    {
      "cell_type": "code",
      "execution_count": 18,
      "metadata": {
        "colab": {
          "base_uri": "https://localhost:8080/",
          "height": 206
        },
        "id": "IWw5r4qeVjmd",
        "outputId": "59cd6d2c-5058-4731-d9e9-b75be0a0ccbf"
      },
      "outputs": [
        {
          "data": {
            "text/html": [
              "<div>\n",
              "<style scoped>\n",
              "    .dataframe tbody tr th:only-of-type {\n",
              "        vertical-align: middle;\n",
              "    }\n",
              "\n",
              "    .dataframe tbody tr th {\n",
              "        vertical-align: top;\n",
              "    }\n",
              "\n",
              "    .dataframe thead th {\n",
              "        text-align: right;\n",
              "    }\n",
              "</style>\n",
              "<table border=\"1\" class=\"dataframe\">\n",
              "  <thead>\n",
              "    <tr style=\"text-align: right;\">\n",
              "      <th></th>\n",
              "      <th>name</th>\n",
              "      <th>review</th>\n",
              "    </tr>\n",
              "  </thead>\n",
              "  <tbody>\n",
              "    <tr>\n",
              "      <th>0</th>\n",
              "      <td>Alissa Cotter</td>\n",
              "      <td>we stayed at this hotel last weekend for a sof...</td>\n",
              "    </tr>\n",
              "    <tr>\n",
              "      <th>1</th>\n",
              "      <td>Nicholas P</td>\n",
              "      <td>run away the management at this place has abso...</td>\n",
              "    </tr>\n",
              "    <tr>\n",
              "      <th>2</th>\n",
              "      <td>Lacey Mattsen</td>\n",
              "      <td>mediocre at best and this below isnt even the ...</td>\n",
              "    </tr>\n",
              "    <tr>\n",
              "      <th>3</th>\n",
              "      <td>Nicholas Parker</td>\n",
              "      <td>run away the management at this place has abso...</td>\n",
              "    </tr>\n",
              "    <tr>\n",
              "      <th>4</th>\n",
              "      <td>Shelby Bowles</td>\n",
              "      <td>was told they had a pool  hot tub get there an...</td>\n",
              "    </tr>\n",
              "  </tbody>\n",
              "</table>\n",
              "</div>"
            ],
            "text/plain": [
              "              name                                             review\n",
              "0    Alissa Cotter  we stayed at this hotel last weekend for a sof...\n",
              "1       Nicholas P  run away the management at this place has abso...\n",
              "2    Lacey Mattsen  mediocre at best and this below isnt even the ...\n",
              "3  Nicholas Parker  run away the management at this place has abso...\n",
              "4    Shelby Bowles  was told they had a pool  hot tub get there an..."
            ]
          },
          "execution_count": 18,
          "metadata": {},
          "output_type": "execute_result"
        }
      ],
      "source": [
        "df.head()"
      ]
    },
    {
      "cell_type": "code",
      "execution_count": 19,
      "metadata": {
        "colab": {
          "base_uri": "https://localhost:8080/",
          "height": 206
        },
        "id": "1j5D7EX4Vjme",
        "outputId": "b9c1cbb1-f867-4cc1-9cf0-abfd793349fc"
      },
      "outputs": [
        {
          "data": {
            "text/html": [
              "<div>\n",
              "<style scoped>\n",
              "    .dataframe tbody tr th:only-of-type {\n",
              "        vertical-align: middle;\n",
              "    }\n",
              "\n",
              "    .dataframe tbody tr th {\n",
              "        vertical-align: top;\n",
              "    }\n",
              "\n",
              "    .dataframe thead th {\n",
              "        text-align: right;\n",
              "    }\n",
              "</style>\n",
              "<table border=\"1\" class=\"dataframe\">\n",
              "  <thead>\n",
              "    <tr style=\"text-align: right;\">\n",
              "      <th></th>\n",
              "      <th>name</th>\n",
              "      <th>review</th>\n",
              "    </tr>\n",
              "  </thead>\n",
              "  <tbody>\n",
              "    <tr>\n",
              "      <th>2263</th>\n",
              "      <td>Jorge Lopez</td>\n",
              "      <td>translated by google very good service and the...</td>\n",
              "    </tr>\n",
              "    <tr>\n",
              "      <th>2264</th>\n",
              "      <td>Ernesto Jimenez</td>\n",
              "      <td>translated by google t because it has a hydro ...</td>\n",
              "    </tr>\n",
              "    <tr>\n",
              "      <th>2274</th>\n",
              "      <td>Juan “Acmet666” Akym</td>\n",
              "      <td>translated by google excellentoriginalexelente</td>\n",
              "    </tr>\n",
              "    <tr>\n",
              "      <th>2276</th>\n",
              "      <td>李洪勇</td>\n",
              "      <td>translated by google good environmentoriginal环境很好</td>\n",
              "    </tr>\n",
              "    <tr>\n",
              "      <th>2277</th>\n",
              "      <td>Gustavo Luna</td>\n",
              "      <td>kk</td>\n",
              "    </tr>\n",
              "  </tbody>\n",
              "</table>\n",
              "</div>"
            ],
            "text/plain": [
              "                      name                                             review\n",
              "2263           Jorge Lopez  translated by google very good service and the...\n",
              "2264       Ernesto Jimenez  translated by google t because it has a hydro ...\n",
              "2274  Juan “Acmet666” Akym     translated by google excellentoriginalexelente\n",
              "2276                   李洪勇  translated by google good environmentoriginal环境很好\n",
              "2277          Gustavo Luna                                                 kk"
            ]
          },
          "execution_count": 19,
          "metadata": {},
          "output_type": "execute_result"
        }
      ],
      "source": [
        "df.tail()"
      ]
    },
    {
      "cell_type": "code",
      "execution_count": 20,
      "metadata": {
        "colab": {
          "base_uri": "https://localhost:8080/",
          "height": 677
        },
        "id": "frhZGYerVjme",
        "outputId": "09d9b575-a7da-401b-b4c3-9dcf890defc0"
      },
      "outputs": [
        {
          "data": {
            "text/html": [
              "<div>\n",
              "<style scoped>\n",
              "    .dataframe tbody tr th:only-of-type {\n",
              "        vertical-align: middle;\n",
              "    }\n",
              "\n",
              "    .dataframe tbody tr th {\n",
              "        vertical-align: top;\n",
              "    }\n",
              "\n",
              "    .dataframe thead th {\n",
              "        text-align: right;\n",
              "    }\n",
              "</style>\n",
              "<table border=\"1\" class=\"dataframe\">\n",
              "  <thead>\n",
              "    <tr style=\"text-align: right;\">\n",
              "      <th></th>\n",
              "      <th>name</th>\n",
              "      <th>review</th>\n",
              "    </tr>\n",
              "  </thead>\n",
              "  <tbody>\n",
              "    <tr>\n",
              "      <th>1459</th>\n",
              "      <td>Anonymous</td>\n",
              "      <td>great place to stay  very clean and the staff ...</td>\n",
              "    </tr>\n",
              "    <tr>\n",
              "      <th>1149</th>\n",
              "      <td>Anonymous</td>\n",
              "      <td>the location was the perfect location for our ...</td>\n",
              "    </tr>\n",
              "    <tr>\n",
              "      <th>1703</th>\n",
              "      <td>Anonymous</td>\n",
              "      <td>rooms were clean this is an older property so ...</td>\n",
              "    </tr>\n",
              "    <tr>\n",
              "      <th>1856</th>\n",
              "      <td>Anonymous</td>\n",
              "      <td>stay was great  nice rooms and great conferenc...</td>\n",
              "    </tr>\n",
              "    <tr>\n",
              "      <th>2177</th>\n",
              "      <td>Jeffery Raatz</td>\n",
              "      <td>one of the best that i have stayed in</td>\n",
              "    </tr>\n",
              "    <tr>\n",
              "      <th>1422</th>\n",
              "      <td>Monica Wiesman</td>\n",
              "      <td>attended a wedding there and had a great time ...</td>\n",
              "    </tr>\n",
              "    <tr>\n",
              "      <th>304</th>\n",
              "      <td>Anonymous</td>\n",
              "      <td>experience here was soso  hotel was clean staf...</td>\n",
              "    </tr>\n",
              "    <tr>\n",
              "      <th>1095</th>\n",
              "      <td>Barb Sawyer</td>\n",
              "      <td>held an internal meeting at the comfort suites...</td>\n",
              "    </tr>\n",
              "    <tr>\n",
              "      <th>247</th>\n",
              "      <td>Anonymous</td>\n",
              "      <td>love this hotel that i happened upon earlier t...</td>\n",
              "    </tr>\n",
              "    <tr>\n",
              "      <th>632</th>\n",
              "      <td>Surprises</td>\n",
              "      <td>registration was an effort even though i was p...</td>\n",
              "    </tr>\n",
              "    <tr>\n",
              "      <th>1697</th>\n",
              "      <td>Anonymous</td>\n",
              "      <td>hotel was good  not too impressed with choice ...</td>\n",
              "    </tr>\n",
              "    <tr>\n",
              "      <th>1182</th>\n",
              "      <td>Anonymous</td>\n",
              "      <td>great hotel clean pleasant staff comfortable b...</td>\n",
              "    </tr>\n",
              "    <tr>\n",
              "      <th>1758</th>\n",
              "      <td>Anonymous</td>\n",
              "      <td>the hotel room was very clean and was larger t...</td>\n",
              "    </tr>\n",
              "    <tr>\n",
              "      <th>1920</th>\n",
              "      <td>Anonymous</td>\n",
              "      <td>this is a nice place to stay if you are lookin...</td>\n",
              "    </tr>\n",
              "    <tr>\n",
              "      <th>1378</th>\n",
              "      <td>Anonymous</td>\n",
              "      <td>the property is in excellent condition the sta...</td>\n",
              "    </tr>\n",
              "    <tr>\n",
              "      <th>1651</th>\n",
              "      <td>Anonymous</td>\n",
              "      <td>everything was better than we had expected wou...</td>\n",
              "    </tr>\n",
              "    <tr>\n",
              "      <th>1506</th>\n",
              "      <td>Tone Coughlin</td>\n",
              "      <td>plenty of space but toilets tend to back up an...</td>\n",
              "    </tr>\n",
              "    <tr>\n",
              "      <th>637</th>\n",
              "      <td>Anonymous</td>\n",
              "      <td>the only problem we had with our stay at the j...</td>\n",
              "    </tr>\n",
              "    <tr>\n",
              "      <th>2258</th>\n",
              "      <td>Anonymous</td>\n",
              "      <td>fair fair fair fair fair fiar fair fair fair f...</td>\n",
              "    </tr>\n",
              "    <tr>\n",
              "      <th>2040</th>\n",
              "      <td>Robbie Hearan</td>\n",
              "      <td>great staff  great pool area</td>\n",
              "    </tr>\n",
              "  </tbody>\n",
              "</table>\n",
              "</div>"
            ],
            "text/plain": [
              "                name                                             review\n",
              "1459       Anonymous  great place to stay  very clean and the staff ...\n",
              "1149       Anonymous  the location was the perfect location for our ...\n",
              "1703       Anonymous  rooms were clean this is an older property so ...\n",
              "1856       Anonymous  stay was great  nice rooms and great conferenc...\n",
              "2177   Jeffery Raatz              one of the best that i have stayed in\n",
              "1422  Monica Wiesman  attended a wedding there and had a great time ...\n",
              "304        Anonymous  experience here was soso  hotel was clean staf...\n",
              "1095     Barb Sawyer  held an internal meeting at the comfort suites...\n",
              "247        Anonymous  love this hotel that i happened upon earlier t...\n",
              "632        Surprises  registration was an effort even though i was p...\n",
              "1697       Anonymous  hotel was good  not too impressed with choice ...\n",
              "1182       Anonymous  great hotel clean pleasant staff comfortable b...\n",
              "1758       Anonymous  the hotel room was very clean and was larger t...\n",
              "1920       Anonymous  this is a nice place to stay if you are lookin...\n",
              "1378       Anonymous  the property is in excellent condition the sta...\n",
              "1651       Anonymous  everything was better than we had expected wou...\n",
              "1506   Tone Coughlin  plenty of space but toilets tend to back up an...\n",
              "637        Anonymous  the only problem we had with our stay at the j...\n",
              "2258       Anonymous  fair fair fair fair fair fiar fair fair fair f...\n",
              "2040   Robbie Hearan                       great staff  great pool area"
            ]
          },
          "execution_count": 20,
          "metadata": {},
          "output_type": "execute_result"
        }
      ],
      "source": [
        "df.sample(20)"
      ]
    },
    {
      "cell_type": "code",
      "execution_count": 21,
      "metadata": {
        "id": "Y2ksXNXYVjme"
      },
      "outputs": [],
      "source": [
        "df.to_csv(\"for_lda_reviews1.csv\")"
      ]
    }
  ],
  "metadata": {
    "colab": {
      "provenance": []
    },
    "kernelspec": {
      "display_name": ".venv",
      "language": "python",
      "name": "python3"
    },
    "language_info": {
      "codemirror_mode": {
        "name": "ipython",
        "version": 3
      },
      "file_extension": ".py",
      "mimetype": "text/x-python",
      "name": "python",
      "nbconvert_exporter": "python",
      "pygments_lexer": "ipython3",
      "version": "3.9.19"
    }
  },
  "nbformat": 4,
  "nbformat_minor": 0
}
