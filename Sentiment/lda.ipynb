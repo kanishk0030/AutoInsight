{
 "cells": [
  {
   "cell_type": "code",
   "execution_count": 2,
   "metadata": {},
   "outputs": [],
   "source": [
    "import re\n",
    "import pandas as pd\n",
    "from sklearn.feature_extraction.text import CountVectorizer\n",
    "from sklearn.decomposition import LatentDirichletAllocation"
   ]
  },
  {
   "cell_type": "code",
   "execution_count": 3,
   "metadata": {},
   "outputs": [],
   "source": [
    "df=pd.read_csv('for_lda_reviews1.csv')"
   ]
  },
  {
   "cell_type": "code",
   "execution_count": 4,
   "metadata": {},
   "outputs": [
    {
     "name": "stdout",
     "output_type": "stream",
     "text": [
      "   Unnamed: 0             name  \\\n",
      "0           0    Alissa Cotter   \n",
      "1           1       Nicholas P   \n",
      "2           2    Lacey Mattsen   \n",
      "3           3  Nicholas Parker   \n",
      "4           4    Shelby Bowles   \n",
      "\n",
      "                                              review  \n",
      "0  we stayed at this hotel last weekend for a sof...  \n",
      "1  run away the management at this place has abso...  \n",
      "2  mediocre at best and this below isnt even the ...  \n",
      "3  run away the management at this place has abso...  \n",
      "4  was told they had a pool  hot tub get there an...  \n",
      "{'Aspect 1': ['room', 'stay', 'service', 'breakfast', 'pool', 'nice', 'check', 'didnt', 'hotel', 'rooms'], 'Aspect 2': ['hotel', 'room', 'stayed', 'great', 'wedding', 'time', 'rooms', 'stay', 'nice', 'better'], 'Aspect 3': ['staff', 'hotel', 'room', 'nice', 'friendly', 'breakfast', 'clean', 'helpful', 'good', 'desk'], 'Aspect 4': ['room', 'desk', 'staff', 'hotel', 'stay', 'good', 'didnt', 'bed', 'dirty', 'stayed'], 'Aspect 5': ['clean', 'hotel', 'great', 'nice', 'pool', 'stay', 'area', 'staff', 'breakfast', 'rooms']}\n"
     ]
    }
   ],
   "source": [
    "\n",
    "\n",
    "# Check the structure to ensure it's loaded correctly\n",
    "print(df.head())\n",
    "\n",
    "# Vectorize the cleaned review text using CountVectorizer with adjusted parameters\n",
    "vectorizer = CountVectorizer(max_df=0.99, min_df=1, stop_words='english')  # Adjusted max_df and min_df for sentiment analysis\n",
    "X = vectorizer.fit_transform(df['review'])\n",
    "\n",
    "# Apply LDA to extract topics (aspects)\n",
    "lda_model = LatentDirichletAllocation(n_components=5, random_state=42)  # Adjust n_components for the number of topics\n",
    "lda_model.fit(X)\n",
    "\n",
    "# Get the top words for each topic to interpret the aspects\n",
    "n_top_words = 10\n",
    "feature_names = vectorizer.get_feature_names_out()\n",
    "\n",
    "# Extracting top words for each topic to interpret them as aspects\n",
    "topics = {}\n",
    "for topic_idx, topic in enumerate(lda_model.components_):\n",
    "    top_features = [feature_names[i] for i in topic.argsort()[:-n_top_words - 1:-1]]\n",
    "    topics[f'Aspect {topic_idx + 1}'] = top_features\n",
    "\n",
    "# Display the extracted topics\n",
    "print(topics)\n"
   ]
  }
 ],
 "metadata": {
  "kernelspec": {
   "display_name": ".venv",
   "language": "python",
   "name": "python3"
  },
  "language_info": {
   "codemirror_mode": {
    "name": "ipython",
    "version": 3
   },
   "file_extension": ".py",
   "mimetype": "text/x-python",
   "name": "python",
   "nbconvert_exporter": "python",
   "pygments_lexer": "ipython3",
   "version": "3.9.7"
  }
 },
 "nbformat": 4,
 "nbformat_minor": 2
}
